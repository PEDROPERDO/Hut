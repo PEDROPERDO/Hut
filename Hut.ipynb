{
  "nbformat": 4,
  "nbformat_minor": 0,
  "metadata": {
    "colab": {
      "provenance": [],
      "gpuType": "T4"
    },
    "kernelspec": {
      "name": "python3",
      "display_name": "Python 3"
    },
    "language_info": {
      "name": "python"
    },
    "accelerator": "GPU"
  },
  "cells": [
    {
      "cell_type": "code",
      "execution_count": 1,
      "metadata": {
        "id": "XtIRFaiz0v4X"
      },
      "outputs": [],
      "source": [
        "import tensorflow as tf\n",
        "\n",
        "import os, warnings\n",
        "\n",
        "urli = \"https://github.com/dicodingacademy/assets/releases/download/release/rockpaperscissors.zip\""
      ]
    },
    {
      "cell_type": "code",
      "source": [
        "import tensorflow.keras.utils as utils\n",
        "\n",
        "tenori(urli)"
      ],
      "metadata": {
        "id": "-_2KmapO018f"
      },
      "execution_count": null,
      "outputs": []
    },
    {
      "cell_type": "code",
      "source": [
        "rooter = \"/tmp/datasets/rockpaperscissors/rps-cv-images\"\n",
        "\n",
        "os.listdir(rooter)"
      ],
      "metadata": {
        "colab": {
          "base_uri": "https://localhost:8080/"
        },
        "id": "fogAjJdBJ7Yp",
        "outputId": "a356bc60-70b1-4dea-c50b-94872923db60"
      },
      "execution_count": 3,
      "outputs": [
        {
          "output_type": "execute_result",
          "data": {
            "text/plain": [
              "['paper', 'scissors', 'README_rpc-cv-images.txt', 'rock']"
            ]
          },
          "metadata": {},
          "execution_count": 3
        }
      ]
    },
    {
      "cell_type": "code",
      "source": [
        "os.remove(os.path.join(rooter, os.listdir(rooter)[2]))\n",
        "\n",
        "os.listdir(rooter)"
      ],
      "metadata": {
        "colab": {
          "base_uri": "https://localhost:8080/"
        },
        "id": "LUb_k3oXKE3M",
        "outputId": "d12e9bdc-15f8-470b-a331-6a6325903704"
      },
      "execution_count": 4,
      "outputs": [
        {
          "output_type": "execute_result",
          "data": {
            "text/plain": [
              "['paper', 'scissors', 'rock']"
            ]
          },
          "metadata": {},
          "execution_count": 4
        }
      ]
    },
    {
      "cell_type": "code",
      "source": [
        "image = (150, 150); split = 0.3; random = 128\n",
        "\n",
        "unseet = 10; subset = \"both\"\n",
        "\n",
        "orifile = utils.image_dataset_from_directory(\n",
        "  rooter,\n",
        "  seed = unseet,\n",
        "  subset = subset,\n",
        "  image_size = image,\n",
        "  batch_size = random,\n",
        "  validation_split = split\n",
        ")\n",
        "\n",
        "train, testi = orifile"
      ],
      "metadata": {
        "id": "Ia0gypBpKKnV"
      },
      "execution_count": null,
      "outputs": []
    },
    {
      "cell_type": "code",
      "source": [
        "labeler = train.class_names\n",
        "\n",
        "labeler"
      ],
      "metadata": {
        "colab": {
          "base_uri": "https://localhost:8080/"
        },
        "id": "FodGYfkeKkCk",
        "outputId": "50937abf-2fe8-46d5-f9f5-d15b2ef49941"
      },
      "execution_count": 6,
      "outputs": [
        {
          "output_type": "execute_result",
          "data": {
            "text/plain": [
              "['paper', 'rock', 'scissors']"
            ]
          },
          "metadata": {},
          "execution_count": 6
        }
      ]
    },
    {
      "cell_type": "code",
      "source": [
        "outlen = len(labeler)\n",
        "\n",
        "outlen"
      ],
      "metadata": {
        "colab": {
          "base_uri": "https://localhost:8080/"
        },
        "id": "g8Cbez8EKmVq",
        "outputId": "088bcd9f-c23e-483d-c912-a72055d013cb"
      },
      "execution_count": 7,
      "outputs": [
        {
          "output_type": "execute_result",
          "data": {
            "text/plain": [
              "3"
            ]
          },
          "metadata": {},
          "execution_count": 7
        }
      ]
    },
    {
      "cell_type": "code",
      "source": [
        "relater = lambda i, l : (tf.cast(tf.math.divide(i, 255.0), tf.float32), l)\n",
        "\n",
        "train = train.map(relater).cache().prefetch(1)\n",
        "\n",
        "testi = testi.map(relater)"
      ],
      "metadata": {
        "id": "TyE3nnjlKsol"
      },
      "execution_count": 8,
      "outputs": []
    },
    {
      "cell_type": "code",
      "source": [
        "import tensorflow.keras.layers as layers\n",
        "\n",
        "from tensorflow.keras.models import Model\n",
        "\n",
        "input_shape = (150, 150, 3)\n",
        "\n",
        "class Helper(Model):\n",
        "  def __init__(self):\n",
        "    super(Helper, self).__init__()\n",
        "    self.flip_left_right = layers.RandomFlip()\n",
        "    self.random_rotation = layers.RandomRotation(factor=0.4)\n",
        "    self.random_translation = layers.RandomTranslation(height_factor=0.2, width_factor=0.2)\n",
        "    self.random_size = layers.RandomZoom(height_factor=0.2)\n",
        "\n",
        "  def call(self, i):\n",
        "    x = self.flip_left_right(i)\n",
        "    x = self.random_translation(x)\n",
        "    x = self.random_translation(x)\n",
        "    x = self.random_size(x)\n",
        "    return x\n",
        "\n",
        "imager = Helper()\n",
        "\n",
        "train = train.map(lambda i, l : (imager(i), l))\n",
        "\n",
        "testi = testi.map(lambda i, l : (imager(i), l))"
      ],
      "metadata": {
        "id": "_B17SMWVKu1w"
      },
      "execution_count": 9,
      "outputs": []
    },
    {
      "cell_type": "code",
      "source": [
        "class Hantu(Model):\n",
        "  def __init__(self, outlen):\n",
        "    super(Hantu, self).__init__()\n",
        "    self.imasatu = layers.Conv2D(16, 3, activation=\"relu\", padding=\"same\")\n",
        "    self.imanida = layers.Conv2D(32, 3, activation=\"relu\", padding=\"same\")\n",
        "    self.imatiga = layers.Conv2D(64, 3, activation=\"relu\", padding=\"same\")\n",
        "    self.pooling = layers.MaxPool2D((2, 2))\n",
        "\n",
        "    self.flatten = layers.Flatten()\n",
        "    self.dropout = layers.Dropout(0.2)\n",
        "    self.denseri = layers.Dense(128, activation=\"relu\")\n",
        "    self.classes = layers.Dense(outlen, activation=tf.nn.softmax)\n",
        "\n",
        "  def call(self, i):\n",
        "    x = self.pooling(self.imasatu(i))\n",
        "    x = self.pooling(self.imanida(x))\n",
        "    x = self.pooling(self.imatiga(x))\n",
        "    x = self.flatten(x)\n",
        "    x = self.dropout(x)\n",
        "    x = self.denseri(x)\n",
        "    j = self.classes(x)\n",
        "    return j\n",
        "\n",
        "model = Hantu(outlen)"
      ],
      "metadata": {
        "id": "u6pIE8nLKyXq"
      },
      "execution_count": 10,
      "outputs": []
    },
    {
      "cell_type": "code",
      "source": [
        "from tensorflow.keras.callbacks import Callback\n",
        "\n",
        "class Matrit(Callback):\n",
        "  def on_epoch_end(self, epoch, logs=None):\n",
        "    if logs.get(\"accuracy\") >= 0.90 and logs.get(\"val_accuracy\") >= 0.90:\n",
        "      self.model.stop_training = True\n",
        "\n",
        "callbacks = Matrit()"
      ],
      "metadata": {
        "id": "F9v7ZuB_L0F3"
      },
      "execution_count": 11,
      "outputs": []
    },
    {
      "cell_type": "code",
      "source": [
        "model.compile(optimizer=\"adam\", loss=\"sparse_categorical_crossentropy\", metrics=[\"accuracy\"])\n",
        "\n",
        "epochs = 18\n",
        "\n",
        "plot = model.fit(train, validation_data=testi, epochs=epochs, callbacks=[callbacks])"
      ],
      "metadata": {
        "id": "qdValLWYL2Nh"
      },
      "execution_count": null,
      "outputs": []
    },
    {
      "cell_type": "code",
      "source": [
        "model.evaluate(train, verbose=0)"
      ],
      "metadata": {
        "colab": {
          "base_uri": "https://localhost:8080/"
        },
        "id": "Fl6eXq9IMYaf",
        "outputId": "dcc22a38-157c-44f1-c59b-69cbfeb82cf4"
      },
      "execution_count": 13,
      "outputs": [
        {
          "output_type": "execute_result",
          "data": {
            "text/plain": [
              "[0.28754013776779175, 0.9073107242584229]"
            ]
          },
          "metadata": {},
          "execution_count": 13
        }
      ]
    },
    {
      "cell_type": "code",
      "source": [
        "model.evaluate(testi, verbose=0)"
      ],
      "metadata": {
        "colab": {
          "base_uri": "https://localhost:8080/"
        },
        "id": "Kad5hO-NMaXB",
        "outputId": "eef8a674-e8b3-4eb1-867f-f96ea4638fc0"
      },
      "execution_count": 14,
      "outputs": [
        {
          "output_type": "execute_result",
          "data": {
            "text/plain": [
              "[0.2626657485961914, 0.9070122241973877]"
            ]
          },
          "metadata": {},
          "execution_count": 14
        }
      ]
    },
    {
      "cell_type": "code",
      "source": [
        "plot = Helplot(plot)\n",
        "\n",
        "plot.trainplot"
      ],
      "metadata": {
        "colab": {
          "base_uri": "https://localhost:8080/",
          "height": 528
        },
        "id": "J9idbNvZOTgz",
        "outputId": "2992abe9-27ea-44e0-923c-3c711738f607"
      },
      "execution_count": 15,
      "outputs": [
        {
          "output_type": "display_data",
          "data": {
            "text/plain": [
              "<Figure size 1000x500 with 2 Axes>"
            ],
            "image/png": "[encoded data removed]"
          },
          "metadata": {}
        }
      ]
    },
    {
      "cell_type": "code",
      "source": [
        "plot.testiplot"
      ],
      "metadata": {
        "colab": {
          "base_uri": "https://localhost:8080/",
          "height": 528
        },
        "id": "ihgJq9x5OjNN",
        "outputId": "67d51287-3f46-4c1b-cb82-bddd24708d3b"
      },
      "execution_count": 16,
      "outputs": [
        {
          "output_type": "display_data",
          "data": {
            "text/plain": [
              "<Figure size 1000x500 with 2 Axes>"
            ],
            "image/png": "[encoded data removed]"
          },
          "metadata": {}
        }
      ]
    },
    {
      "cell_type": "code",
      "source": [
        "!echo \"deb http://storage.googleapis.com/tensorflow-serving-apt stable tensorflow-model-server tensorflow-model-server-universal\" | tee /etc/apt/sources.list.d/tensorflow-serving.list && \\\n",
        "curl https://storage.googleapis.com/tensorflow-serving-apt/tensorflow-serving.release.pub.gpg | apt-key add -\n",
        "!apt update\n",
        "\n",
        "!apt-get install tensorflow-model-server"
      ],
      "metadata": {
        "id": "RPDmsESzOrGn"
      },
      "execution_count": null,
      "outputs": []
    },
    {
      "cell_type": "code",
      "source": [
        "import os\n",
        "\n",
        "molder = \"/content/model\"\n",
        "\n",
        "os.mkdir(molder)\n",
        "\n",
        "serial = \"1\"\n",
        "\n",
        "molpat = os.path.join(molder, serial)\n",
        "\n",
        "tf.saved_model.save(model, molpat)"
      ],
      "metadata": {
        "id": "6KvOGINKO3Jk"
      },
      "execution_count": 18,
      "outputs": []
    },
    {
      "cell_type": "code",
      "source": [
        "os.environ[\"ModelFolder\"] = molder"
      ],
      "metadata": {
        "id": "k0KuYRNXO7aP"
      },
      "execution_count": 19,
      "outputs": []
    },
    {
      "cell_type": "code",
      "source": [
        "%%bash --bg\n",
        "nohup tensorflow_model_server \\\n",
        "  --rest_api_port=8501 \\\n",
        "  --model_name=inter_model \\\n",
        "  --model_base_path=\"${ModelFolder}\""
      ],
      "metadata": {
        "id": "DnRrAp0QO9e7"
      },
      "execution_count": 20,
      "outputs": []
    },
    {
      "cell_type": "code",
      "source": [
        "!tail server.log"
      ],
      "metadata": {
        "id": "r3UsygxuPBYd"
      },
      "execution_count": null,
      "outputs": []
    },
    {
      "cell_type": "code",
      "source": [
        "import json, requests\n",
        "\n",
        "test_img, test_label = next(iter(testi))\n",
        "\n",
        "test_img = test_img.numpy().tolist()\n",
        "\n",
        "url = \"http://127.0.0.1:8501/v1/models/inter_model:predict\""
      ],
      "metadata": {
        "id": "QkSoswczPF1F"
      },
      "execution_count": 22,
      "outputs": []
    },
    {
      "cell_type": "code",
      "source": [
        "image = json.dumps({\"signature_name\":\"serving_default\", \"instances\":test_img})\n",
        "\n",
        "content = {\"content-type\":\"application/json\"}\n",
        "\n",
        "response = requests.post(url, data=image, headers=content)"
      ],
      "metadata": {
        "id": "7Ef3JGb2PJEF"
      },
      "execution_count": 23,
      "outputs": []
    },
    {
      "cell_type": "code",
      "source": [
        "loader = json.loads(response.text)\n",
        "\n",
        "result = loader[\"predictions\"]\n",
        "\n",
        "tf.math.argmax(result, axis=1).numpy()"
      ],
      "metadata": {
        "colab": {
          "base_uri": "https://localhost:8080/"
        },
        "id": "O3AVKSrqPMOU",
        "outputId": "412b2ce4-d6c3-4b6d-bfdd-18f82cd105e9"
      },
      "execution_count": 24,
      "outputs": [
        {
          "output_type": "execute_result",
          "data": {
            "text/plain": [
              "array([0, 1, 0, 0, 2, 1, 1, 1, 2, 0, 1, 2, 2, 0, 1, 1, 0, 0, 1, 1, 1, 2,\n",
              "       0, 2, 2, 2, 1, 1, 1, 0, 2, 1, 0, 1, 1, 2, 0, 2, 2, 2, 0, 2, 0, 0,\n",
              "       0, 0, 1, 2, 1, 2, 1, 2, 2, 1, 0, 1, 2, 0, 2, 2, 0, 2, 0, 0, 1, 2,\n",
              "       1, 0, 1, 2, 1, 2, 1, 1, 2, 1, 1, 0, 2, 1, 1, 0, 2, 2, 2, 1, 1, 1,\n",
              "       2, 2, 2, 2, 2, 2, 1, 0, 1, 1, 2, 1, 1, 1, 2, 1, 1, 0, 2, 0, 2, 2,\n",
              "       0, 2, 1, 1, 1, 0, 2, 1, 1, 0, 2, 1, 1, 2, 1, 0, 2, 2])"
            ]
          },
          "metadata": {},
          "execution_count": 24
        }
      ]
    },
    {
      "cell_type": "code",
      "source": [
        "loss_fn = tf.keras.losses.SparseCategoricalCrossentropy()\n",
        "\n",
        "loss_i = loss_fn(test_label, result)\n",
        "\n",
        "loss_i.numpy()"
      ],
      "metadata": {
        "colab": {
          "base_uri": "https://localhost:8080/"
        },
        "id": "zfPogmQIPRGY",
        "outputId": "27e13368-aa54-4c9d-d0b5-f57cf15922bd"
      },
      "execution_count": 25,
      "outputs": [
        {
          "output_type": "execute_result",
          "data": {
            "text/plain": [
              "0.256451"
            ]
          },
          "metadata": {},
          "execution_count": 25
        }
      ]
    },
    {
      "cell_type": "code",
      "source": [
        "model.save('/tmp/modelapi', save_format='tf')"
      ],
      "metadata": {
        "id": "lW2bxEQ7PTF4"
      },
      "execution_count": 26,
      "outputs": []
    },
    {
      "cell_type": "code",
      "source": [
        "model_api = tf.keras.models.load_model('/tmp/modelapi')"
      ],
      "metadata": {
        "id": "7yMfFly7PWoF"
      },
      "execution_count": null,
      "outputs": []
    },
    {
      "cell_type": "code",
      "source": [
        "model_api.evaluate(train)"
      ],
      "metadata": {
        "colab": {
          "base_uri": "https://localhost:8080/"
        },
        "id": "bnhlDzcXPfG_",
        "outputId": "f079842c-352d-43f5-a3d4-707c83ab1b25"
      },
      "execution_count": 28,
      "outputs": [
        {
          "output_type": "execute_result",
          "data": {
            "text/plain": [
              "[0.259725958108902, 0.9229764938354492]"
            ]
          },
          "metadata": {},
          "execution_count": 28
        }
      ]
    },
    {
      "cell_type": "code",
      "source": [
        "model_api.evaluate(testi)"
      ],
      "metadata": {
        "colab": {
          "base_uri": "https://localhost:8080/"
        },
        "id": "6iE51tVDPkCQ",
        "outputId": "f6ed2e38-df55-4d32-face-26d46c0a955b"
      },
      "execution_count": 29,
      "outputs": [
        {
          "output_type": "execute_result",
          "data": {
            "text/plain": [
              "[0.2574523091316223, 0.9222561120986938]"
            ]
          },
          "metadata": {},
          "execution_count": 29
        }
      ]
    }
  ]
}